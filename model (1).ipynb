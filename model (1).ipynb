{
 "cells": [
  {
   "cell_type": "code",
   "execution_count": 2,
   "metadata": {
    "scrolled": true
   },
   "outputs": [],
   "source": [
    "import pandas as pd\n",
    "import numpy as np\n",
    "import matplotlib.pyplot as plt\n",
    "import seaborn as sns\n",
    "\n",
    "plt.style.use('ggplot')\n",
    "\n",
    "from transformers import AutoTokenizer\n",
    "from transformers import AutoModelForSequenceClassification\n",
    "from scipy.special import softmax"
   ]
  },
  {
   "cell_type": "markdown",
   "metadata": {},
   "source": [
    "Word Embedding and Neural Networks"
   ]
  },
  {
   "cell_type": "code",
   "execution_count": 3,
   "metadata": {},
   "outputs": [
    {
     "name": "stdout",
     "output_type": "stream",
     "text": [
      "(3472, 9)\n"
     ]
    }
   ],
   "source": [
    "df = pd.read_csv('NovoTrustPilotRatings.csv' , encoding='latin-1')\n",
    "print(df.shape)\n"
   ]
  },
  {
   "cell_type": "code",
   "execution_count": 4,
   "metadata": {},
   "outputs": [
    {
     "data": {
      "text/html": [
       "<div>\n",
       "<style scoped>\n",
       "    .dataframe tbody tr th:only-of-type {\n",
       "        vertical-align: middle;\n",
       "    }\n",
       "\n",
       "    .dataframe tbody tr th {\n",
       "        vertical-align: top;\n",
       "    }\n",
       "\n",
       "    .dataframe thead th {\n",
       "        text-align: right;\n",
       "    }\n",
       "</style>\n",
       "<table border=\"1\" class=\"dataframe\">\n",
       "  <thead>\n",
       "    <tr style=\"text-align: right;\">\n",
       "      <th></th>\n",
       "      <th>rating</th>\n",
       "      <th>rating title</th>\n",
       "      <th>Review text</th>\n",
       "      <th>Review date</th>\n",
       "      <th>Date of Experience</th>\n",
       "      <th>rating_procesed</th>\n",
       "      <th>Year of review</th>\n",
       "      <th>Year of experience</th>\n",
       "      <th>DIff in months</th>\n",
       "    </tr>\n",
       "  </thead>\n",
       "  <tbody>\n",
       "    <tr>\n",
       "      <th>0</th>\n",
       "      <td>Rated 5 out of 5 stars</td>\n",
       "      <td>Great bank for businesses</td>\n",
       "      <td>It was easy to set up, with no hassle like som...</td>\n",
       "      <td>Feb 15, 2024</td>\n",
       "      <td>December 01, 2023</td>\n",
       "      <td>5</td>\n",
       "      <td>2024</td>\n",
       "      <td>2023</td>\n",
       "      <td>2</td>\n",
       "    </tr>\n",
       "    <tr>\n",
       "      <th>1</th>\n",
       "      <td>Rated 3 out of 5 stars</td>\n",
       "      <td>Buggy when it matters most.</td>\n",
       "      <td>Unfortunately I???m probably going to figure o...</td>\n",
       "      <td>Feb 19, 2024</td>\n",
       "      <td>February 18, 2024</td>\n",
       "      <td>3</td>\n",
       "      <td>2024</td>\n",
       "      <td>2024</td>\n",
       "      <td>0</td>\n",
       "    </tr>\n",
       "    <tr>\n",
       "      <th>2</th>\n",
       "      <td>Rated 5 out of 5 stars</td>\n",
       "      <td>Love digital banking</td>\n",
       "      <td>Love digital banking I keep now all my busines...</td>\n",
       "      <td>Feb 1, 2024</td>\n",
       "      <td>February 01, 2024</td>\n",
       "      <td>5</td>\n",
       "      <td>2024</td>\n",
       "      <td>2024</td>\n",
       "      <td>0</td>\n",
       "    </tr>\n",
       "    <tr>\n",
       "      <th>3</th>\n",
       "      <td>Rated 3 out of 5 stars</td>\n",
       "      <td>Poor support and no wires</td>\n",
       "      <td>A decent basic free business bank, but have re...</td>\n",
       "      <td>Feb 8, 2024</td>\n",
       "      <td>February 07, 2024</td>\n",
       "      <td>3</td>\n",
       "      <td>2024</td>\n",
       "      <td>2024</td>\n",
       "      <td>0</td>\n",
       "    </tr>\n",
       "    <tr>\n",
       "      <th>4</th>\n",
       "      <td>Rated 4 out of 5 stars</td>\n",
       "      <td>Really easy to set up</td>\n",
       "      <td>Really easy to set up. Works as intended most ...</td>\n",
       "      <td>Jan 10, 2024</td>\n",
       "      <td>January 10, 2024</td>\n",
       "      <td>4</td>\n",
       "      <td>2024</td>\n",
       "      <td>2024</td>\n",
       "      <td>0</td>\n",
       "    </tr>\n",
       "  </tbody>\n",
       "</table>\n",
       "</div>"
      ],
      "text/plain": [
       "                   rating                 rating title  \\\n",
       "0  Rated 5 out of 5 stars    Great bank for businesses   \n",
       "1  Rated 3 out of 5 stars  Buggy when it matters most.   \n",
       "2  Rated 5 out of 5 stars         Love digital banking   \n",
       "3  Rated 3 out of 5 stars    Poor support and no wires   \n",
       "4  Rated 4 out of 5 stars        Really easy to set up   \n",
       "\n",
       "                                         Review text   Review date  \\\n",
       "0  It was easy to set up, with no hassle like som...  Feb 15, 2024   \n",
       "1  Unfortunately I???m probably going to figure o...  Feb 19, 2024   \n",
       "2  Love digital banking I keep now all my busines...   Feb 1, 2024   \n",
       "3  A decent basic free business bank, but have re...   Feb 8, 2024   \n",
       "4  Really easy to set up. Works as intended most ...  Jan 10, 2024   \n",
       "\n",
       "  Date of Experience  rating_procesed  Year of review   Year of experience  \\\n",
       "0  December 01, 2023                5             2024                2023   \n",
       "1  February 18, 2024                3             2024                2024   \n",
       "2  February 01, 2024                5             2024                2024   \n",
       "3  February 07, 2024                3             2024                2024   \n",
       "4   January 10, 2024                4             2024                2024   \n",
       "\n",
       "   DIff in months   \n",
       "0                2  \n",
       "1                0  \n",
       "2                0  \n",
       "3                0  \n",
       "4                0  "
      ]
     },
     "execution_count": 4,
     "metadata": {},
     "output_type": "execute_result"
    }
   ],
   "source": [
    "df.head()"
   ]
  },
  {
   "cell_type": "markdown",
   "metadata": {},
   "source": [
    "Only columns required for our purpose are rating title, Review text and rating processed"
   ]
  },
  {
   "cell_type": "code",
   "execution_count": 5,
   "metadata": {},
   "outputs": [
    {
     "name": "stdout",
     "output_type": "stream",
     "text": [
      "Novo is awesome. Easy to navigate, fast transfers, beautifully designed. Novo was recommended to me by a fellow entrepreneur and I'm so glad I use them now too!\n"
     ]
    }
   ],
   "source": [
    "example = df['Review text'][50]\n",
    "print(example)"
   ]
  },
  {
   "cell_type": "code",
   "execution_count": 6,
   "metadata": {},
   "outputs": [],
   "source": [
    "MODEL = f\"cardiffnlp/twitter-roberta-base-sentiment\"\n",
    "tokenizer = AutoTokenizer.from_pretrained(MODEL)\n",
    "model = AutoModelForSequenceClassification.from_pretrained(MODEL)"
   ]
  },
  {
   "cell_type": "code",
   "execution_count": 7,
   "metadata": {},
   "outputs": [],
   "source": [
    "def polarity_scores_roberta(example):\n",
    "    encoded_text = tokenizer(example, return_tensors='pt')\n",
    "    output = model(**encoded_text)\n",
    "    scores = output[0][0].detach().numpy()\n",
    "    scores = softmax(scores)\n",
    "    scores_dict = {\n",
    "        'roberta_neg' : scores[0],\n",
    "        'roberta_neu' : scores[1],\n",
    "        'roberta_pos' : scores[2]\n",
    "    }\n",
    "    return scores_dict"
   ]
  },
  {
   "cell_type": "code",
   "execution_count": 8,
   "metadata": {},
   "outputs": [],
   "source": [
    "\n",
    "from tqdm.notebook import tqdm\n"
   ]
  },
  {
   "cell_type": "code",
   "execution_count": 9,
   "metadata": {},
   "outputs": [
    {
     "data": {
      "application/vnd.jupyter.widget-view+json": {
       "model_id": "cdb1d7091ae34b2bbe854141e3bd4c4a",
       "version_major": 2,
       "version_minor": 0
      },
      "text/plain": [
       "  0%|          | 0/3472 [00:00<?, ?it/s]"
      ]
     },
     "metadata": {},
     "output_type": "display_data"
    },
    {
     "name": "stdout",
     "output_type": "stream",
     "text": [
      "Broke for id 175\n",
      "Broke for id 1046\n",
      "index error at id 1511\n",
      "Broke for id 1524\n",
      "Broke for id 1720\n",
      "Broke for id 1875\n",
      "Broke for id 1945\n",
      "Broke for id 2121\n",
      "Broke for id 2155\n",
      "Broke for id 2336\n",
      "Broke for id 2355\n",
      "Broke for id 2488\n",
      "Broke for id 2606\n",
      "Broke for id 2616\n",
      "Broke for id 2618\n",
      "Broke for id 2671\n",
      "Broke for id 2795\n",
      "Broke for id 2857\n"
     ]
    }
   ],
   "source": [
    "res = {}\n",
    "for i, row in tqdm(df.iterrows(), total=len(df)):\n",
    "    try:\n",
    "        text = row['Review text']\n",
    "        roberta_result = polarity_scores_roberta(text)\n",
    "        res[i] = roberta_result\n",
    "    except RuntimeError:\n",
    "        print(f'Broke for id {i}')\n",
    "    except IndexError:\n",
    "        print(f'index error at id {i}')"
   ]
  },
  {
   "cell_type": "code",
   "execution_count": 10,
   "metadata": {
    "scrolled": true
   },
   "outputs": [
    {
     "data": {
      "text/html": [
       "<div>\n",
       "<style scoped>\n",
       "    .dataframe tbody tr th:only-of-type {\n",
       "        vertical-align: middle;\n",
       "    }\n",
       "\n",
       "    .dataframe tbody tr th {\n",
       "        vertical-align: top;\n",
       "    }\n",
       "\n",
       "    .dataframe thead th {\n",
       "        text-align: right;\n",
       "    }\n",
       "</style>\n",
       "<table border=\"1\" class=\"dataframe\">\n",
       "  <thead>\n",
       "    <tr style=\"text-align: right;\">\n",
       "      <th></th>\n",
       "      <th>roberta_neg</th>\n",
       "      <th>roberta_neu</th>\n",
       "      <th>roberta_pos</th>\n",
       "    </tr>\n",
       "  </thead>\n",
       "  <tbody>\n",
       "    <tr>\n",
       "      <th>0</th>\n",
       "      <td>0.001970</td>\n",
       "      <td>0.028291</td>\n",
       "      <td>0.969739</td>\n",
       "    </tr>\n",
       "    <tr>\n",
       "      <th>1</th>\n",
       "      <td>0.688426</td>\n",
       "      <td>0.247378</td>\n",
       "      <td>0.064196</td>\n",
       "    </tr>\n",
       "    <tr>\n",
       "      <th>2</th>\n",
       "      <td>0.001039</td>\n",
       "      <td>0.009252</td>\n",
       "      <td>0.989709</td>\n",
       "    </tr>\n",
       "    <tr>\n",
       "      <th>3</th>\n",
       "      <td>0.752764</td>\n",
       "      <td>0.224621</td>\n",
       "      <td>0.022615</td>\n",
       "    </tr>\n",
       "    <tr>\n",
       "      <th>4</th>\n",
       "      <td>0.107094</td>\n",
       "      <td>0.432379</td>\n",
       "      <td>0.460527</td>\n",
       "    </tr>\n",
       "    <tr>\n",
       "      <th>...</th>\n",
       "      <td>...</td>\n",
       "      <td>...</td>\n",
       "      <td>...</td>\n",
       "    </tr>\n",
       "    <tr>\n",
       "      <th>3467</th>\n",
       "      <td>0.972456</td>\n",
       "      <td>0.024977</td>\n",
       "      <td>0.002567</td>\n",
       "    </tr>\n",
       "    <tr>\n",
       "      <th>3468</th>\n",
       "      <td>0.859819</td>\n",
       "      <td>0.123987</td>\n",
       "      <td>0.016194</td>\n",
       "    </tr>\n",
       "    <tr>\n",
       "      <th>3469</th>\n",
       "      <td>0.807031</td>\n",
       "      <td>0.171405</td>\n",
       "      <td>0.021564</td>\n",
       "    </tr>\n",
       "    <tr>\n",
       "      <th>3470</th>\n",
       "      <td>0.790396</td>\n",
       "      <td>0.200038</td>\n",
       "      <td>0.009566</td>\n",
       "    </tr>\n",
       "    <tr>\n",
       "      <th>3471</th>\n",
       "      <td>0.779924</td>\n",
       "      <td>0.204579</td>\n",
       "      <td>0.015497</td>\n",
       "    </tr>\n",
       "  </tbody>\n",
       "</table>\n",
       "<p>3454 rows × 3 columns</p>\n",
       "</div>"
      ],
      "text/plain": [
       "      roberta_neg  roberta_neu  roberta_pos\n",
       "0        0.001970     0.028291     0.969739\n",
       "1        0.688426     0.247378     0.064196\n",
       "2        0.001039     0.009252     0.989709\n",
       "3        0.752764     0.224621     0.022615\n",
       "4        0.107094     0.432379     0.460527\n",
       "...           ...          ...          ...\n",
       "3467     0.972456     0.024977     0.002567\n",
       "3468     0.859819     0.123987     0.016194\n",
       "3469     0.807031     0.171405     0.021564\n",
       "3470     0.790396     0.200038     0.009566\n",
       "3471     0.779924     0.204579     0.015497\n",
       "\n",
       "[3454 rows x 3 columns]"
      ]
     },
     "execution_count": 10,
     "metadata": {},
     "output_type": "execute_result"
    }
   ],
   "source": [
    "results_df = pd.DataFrame(res).T\n",
    "results_df"
   ]
  },
  {
   "cell_type": "code",
   "execution_count": null,
   "metadata": {},
   "outputs": [],
   "source": []
  }
 ],
 "metadata": {
  "kernelspec": {
   "display_name": "Python 3 (ipykernel)",
   "language": "python",
   "name": "python3"
  },
  "language_info": {
   "codemirror_mode": {
    "name": "ipython",
    "version": 3
   },
   "file_extension": ".py",
   "mimetype": "text/x-python",
   "name": "python",
   "nbconvert_exporter": "python",
   "pygments_lexer": "ipython3",
   "version": "3.10.9"
  }
 },
 "nbformat": 4,
 "nbformat_minor": 2
}
